{
 "cells": [
  {
   "cell_type": "markdown",
   "metadata": {},
   "source": [
    "# Synthetic constraints\n",
    "\n",
    "In this file, we define all the constraints required to run synthetic_survey.ipynb"
   ]
  },
  {
   "cell_type": "code",
   "execution_count": null,
   "metadata": {},
   "outputs": [],
   "source": [
    "from sdv.constraints import Unique, UniqueCombinations, GreaterThan, Positive, Rounding, ColumnFormula"
   ]
  },
  {
   "cell_type": "markdown",
   "metadata": {},
   "source": [
    "### ID variables"
   ]
  },
  {
   "cell_type": "markdown",
   "metadata": {},
   "source": [
    "### Household variables"
   ]
  },
  {
   "cell_type": "code",
   "execution_count": null,
   "metadata": {},
   "outputs": [],
   "source": [
    "positive_H05A_constraint = Positive(\n",
    "    columns='H05A_TOTAL_HOMBRES',\n",
    "    strict=False,\n",
    "    handling_strategy='reject_sampling'\n",
    ")"
   ]
  },
  {
   "cell_type": "code",
   "execution_count": null,
   "metadata": {},
   "outputs": [],
   "source": [
    "positive_H05B_constraint = Positive(\n",
    "    columns='H05B_TOTAL_MUJERES',\n",
    "    strict=False,\n",
    "    handling_strategy='reject_sampling'\n",
    ")"
   ]
  },
  {
   "cell_type": "markdown",
   "metadata": {},
   "source": [
    "Men and women need to add up to the total household"
   ]
  },
  {
   "cell_type": "code",
   "execution_count": null,
   "metadata": {},
   "outputs": [],
   "source": [
    "def H05C_TOTAL_PERSONAS(data):\n",
    "    return data['H05A_TOTAL_HOMBRES'] + data['H05B_TOTAL_MUJERES']"
   ]
  },
  {
   "cell_type": "code",
   "execution_count": null,
   "metadata": {},
   "outputs": [],
   "source": [
    "custom_H05C_constraint = ColumnFormula(\n",
    "    column='H05C_TOTAL_PERSONAS',\n",
    "    formula=H05C_TOTAL_PERSONAS,\n",
    "    handling_strategy='reject_sampling'\n",
    ")"
   ]
  },
  {
   "cell_type": "markdown",
   "metadata": {},
   "source": [
    "### Housing variables"
   ]
  },
  {
   "cell_type": "code",
   "execution_count": null,
   "metadata": {},
   "outputs": [],
   "source": [
    "positive_V09_constraint = Positive(\n",
    "    columns='V09_CANT_DORMITORIOS',\n",
    "    strict=False,\n",
    "    handling_strategy='reject_sampling'\n",
    ")"
   ]
  },
  {
   "cell_type": "code",
   "execution_count": null,
   "metadata": {},
   "outputs": [],
   "source": [
    "positive_V10_constraint = Positive(\n",
    "    columns='V10_CANT_APOSENTOS',\n",
    "    strict=False,\n",
    "    handling_strategy='reject_sampling'\n",
    ")"
   ]
  },
  {
   "cell_type": "code",
   "execution_count": null,
   "metadata": {},
   "outputs": [],
   "source": [
    "positive_V19_constraint = Positive(\n",
    "    columns='V19_CANT_LINEAS_CELULAR',\n",
    "    strict=False,\n",
    "    handling_strategy='reject_sampling'\n",
    ")"
   ]
  },
  {
   "cell_type": "code",
   "execution_count": null,
   "metadata": {},
   "outputs": [],
   "source": [
    "positive_V01B3_constraint = Positive(\n",
    "    columns='V01B3_RESIDENTES_HABITUALES',\n",
    "    strict=False,\n",
    "    handling_strategy='reject_sampling'\n",
    ")"
   ]
  },
  {
   "cell_type": "code",
   "execution_count": null,
   "metadata": {},
   "outputs": [],
   "source": [
    "positive_V02B3_constraint = Positive(\n",
    "    columns='V02B3_CANT_HOGARES',\n",
    "    strict=False,\n",
    "    handling_strategy='reject_sampling'\n",
    ")"
   ]
  },
  {
   "cell_type": "code",
   "execution_count": null,
   "metadata": {},
   "outputs": [],
   "source": [
    "greater_V09_V10_constraint = GreaterThan(\n",
    "    low ='V09_CANT_DORMITORIOS',\n",
    "    high ='V10_CANT_APOSENTOS',\n",
    "    handling_strategy='reject_sampling'\n",
    ")"
   ]
  },
  {
   "cell_type": "code",
   "execution_count": null,
   "metadata": {},
   "outputs": [],
   "source": [
    "greater_V02B_V01B_constraint = GreaterThan(\n",
    "    low ='V02B3_CANT_HOGARES',\n",
    "    high ='V01B3_RESIDENTES_HABITUALES',\n",
    "    handling_strategy='reject_sampling'\n",
    ")"
   ]
  },
  {
   "cell_type": "markdown",
   "metadata": {},
   "source": [
    "### Personal variables"
   ]
  },
  {
   "cell_type": "code",
   "execution_count": null,
   "metadata": {},
   "outputs": [],
   "source": [
    "positive_P00_constraint = Positive(\n",
    "    columns='P00_NUMERO_LINEA',\n",
    "    strict=True,\n",
    "    handling_strategy='reject_sampling'\n",
    ")"
   ]
  },
  {
   "cell_type": "code",
   "execution_count": null,
   "metadata": {},
   "outputs": [],
   "source": [
    "unique_P00_hhid_constraint = UniqueCombinations( #UniqueCombinations(\n",
    "    columns=['P00_NUMERO_LINEA', 'ID_AE_CONSECU', 'ID_VIVIENDA', 'ID_HOGAR', 'PSUD']\n",
    ")"
   ]
  },
  {
   "cell_type": "code",
   "execution_count": null,
   "metadata": {},
   "outputs": [],
   "source": [
    "positive_P03_constraint = Positive(\n",
    "    columns='P03_EDAD',\n",
    "    strict=False,\n",
    "    handling_strategy='reject_sampling'\n",
    ")"
   ]
  },
  {
   "cell_type": "code",
   "execution_count": null,
   "metadata": {},
   "outputs": [],
   "source": [
    "positive_P40_constraint = Positive(\n",
    "    columns='P40_ANOS_ESCOLARIDAD',\n",
    "    strict=False,\n",
    "    handling_strategy='reject_sampling'\n",
    ")"
   ]
  },
  {
   "cell_type": "code",
   "execution_count": null,
   "metadata": {},
   "outputs": [],
   "source": [
    "positive_P41_constraint = Positive(\n",
    "    columns='P41_REZAGO_ESCOLAR',\n",
    "    strict=False,\n",
    "    handling_strategy='reject_sampling'\n",
    ")"
   ]
  },
  {
   "cell_type": "code",
   "execution_count": null,
   "metadata": {},
   "outputs": [],
   "source": [
    "positive_P30_constraint = Positive(\n",
    "    columns='P30_HIJOS_NACIDOS_VIVOS',\n",
    "    strict=False,\n",
    "    handling_strategy='reject_sampling'\n",
    ")"
   ]
  },
  {
   "cell_type": "code",
   "execution_count": null,
   "metadata": {},
   "outputs": [],
   "source": [
    "positive_P31_constraint = Positive(\n",
    "    columns='P31_HIJOS_ACTUALMENTE_VIVOS',\n",
    "    strict=False,\n",
    "    handling_strategy='reject_sampling'\n",
    ")"
   ]
  },
  {
   "cell_type": "code",
   "execution_count": null,
   "metadata": {},
   "outputs": [],
   "source": [
    "greater_P31_P30_constraint = GreaterThan(\n",
    "    low ='P31_HIJOS_ACTUALMENTE_VIVOS',\n",
    "    high ='P30_HIJOS_NACIDOS_VIVOS',\n",
    "    handling_strategy='reject_sampling'\n",
    ")"
   ]
  },
  {
   "cell_type": "code",
   "execution_count": null,
   "metadata": {},
   "outputs": [],
   "source": [
    "constraints = [\n",
    "    positive_H05A_constraint,\n",
    "    positive_H05B_constraint,\n",
    "    custom_H05C_constraint,\n",
    "    positive_V09_constraint,\n",
    "    positive_V10_constraint,\n",
    "    positive_V19_constraint,\n",
    "    positive_V01B3_constraint,\n",
    "    positive_V02B3_constraint,\n",
    "    greater_V09_V10_constraint,\n",
    "    greater_V02B_V01B_constraint,\n",
    "    positive_P00_constraint,\n",
    "    unique_P00_hhid_constraint,\n",
    "    positive_P03_constraint,\n",
    "    positive_P30_constraint,\n",
    "    positive_P31_constraint,\n",
    "    positive_P40_constraint,\n",
    "    positive_P41_constraint,\n",
    "    greater_P31_P30_constraint\n",
    "]"
   ]
  }
 ],
 "metadata": {
  "kernelspec": {
   "display_name": "Python 3",
   "language": "python",
   "name": "python3"
  },
  "language_info": {
   "codemirror_mode": {
    "name": "ipython",
    "version": 3
   },
   "file_extension": ".py",
   "mimetype": "text/x-python",
   "name": "python",
   "nbconvert_exporter": "python",
   "pygments_lexer": "ipython3",
   "version": "3.7.3"
  }
 },
 "nbformat": 4,
 "nbformat_minor": 2
}
